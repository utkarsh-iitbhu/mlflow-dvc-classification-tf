{
 "cells": [
  {
   "cell_type": "code",
   "execution_count": 1,
   "metadata": {},
   "outputs": [
    {
     "data": {
      "text/plain": [
       "'u:\\\\mlflow-dvc-cancer\\\\research'"
      ]
     },
     "execution_count": 1,
     "metadata": {},
     "output_type": "execute_result"
    }
   ],
   "source": [
    "import os \n",
    "%pwd"
   ]
  },
  {
   "cell_type": "code",
   "execution_count": 2,
   "metadata": {},
   "outputs": [
    {
     "data": {
      "text/plain": [
       "'u:\\\\mlflow-dvc-cancer'"
      ]
     },
     "execution_count": 2,
     "metadata": {},
     "output_type": "execute_result"
    }
   ],
   "source": [
    "os.chdir(\"../\")\n",
    "%pwd"
   ]
  },
  {
   "cell_type": "code",
   "execution_count": 12,
   "metadata": {},
   "outputs": [],
   "source": [
    "from dataclasses import dataclass\n",
    "from pathlib import Path \n",
    "\n",
    "@dataclass(frozen=True)\n",
    "class TrainingConfig:\n",
    "    root_dir: Path \n",
    "    trained_model_path: Path # Taken from the config.yaml\n",
    "    updated_base_model_path: Path # from artifacts/prepare_base_model/updated_base_model\n",
    "    training_data: Path # from artifacts/data_ingestion \n",
    "    params_epochs: int # Rest are taken from the params.yaml\n",
    "    params_batch_size: int \n",
    "    params_is_augmentation: bool \n",
    "    params_image_size: list \n",
    "     "
   ]
  },
  {
   "cell_type": "code",
   "execution_count": 13,
   "metadata": {},
   "outputs": [],
   "source": [
    "from cnnClassifier.constants import *\n",
    "from cnnClassifier.utils.common import read_yaml, create_directories"
   ]
  },
  {
   "cell_type": "code",
   "execution_count": 14,
   "metadata": {},
   "outputs": [],
   "source": [
    "# Entity \n",
    "class ConfigurationManager:\n",
    "    def __init__(\n",
    "        self,\n",
    "        config_filepath = CONFIG_FILE_PATH,\n",
    "        params_filepath = PARAMS_FILE_PATH):\n",
    "\n",
    "        self.config = read_yaml(config_filepath)\n",
    "        self.params = read_yaml(params_filepath)\n",
    "\n",
    "        create_directories([self.config.artifacts_root])\n",
    "    \n",
    "    def get_training_config(self)->TrainingConfig:\n",
    "        training = self.config.training # Taken from config.yaml\n",
    "        prepare_base_model = self.config.prepare_base_model # Taken from config\n",
    "        params = self.params # Taken from parans.yaml \n",
    "        training_data = os.path.join(self.config.data_ingestion.unzip_dir,\"Chest-CT-Scan-data\")\n",
    "        create_directories([Path(training.root_dir)])\n",
    "        \n",
    "        training_config = TrainingConfig( # Just adding correct path for all\n",
    "            root_dir = Path(training.root_dir),\n",
    "            trained_model_path= Path(training.trained_model_path),\n",
    "            updated_base_model_path= Path(prepare_base_model.updated_base_model_path),\n",
    "            training_data= Path(training_data),\n",
    "            params_epochs= params.EPOCHS,\n",
    "            params_batch_size= params.BATCH_SIZE,\n",
    "            params_is_augmentation= params.AUGMENTATION,\n",
    "            params_image_size= params.IMAGE_SIZE \n",
    "        )\n",
    "        \n",
    "        return training_config"
   ]
  },
  {
   "cell_type": "code",
   "execution_count": 15,
   "metadata": {},
   "outputs": [],
   "source": [
    "import os \n",
    "import time\n",
    "import tensorflow as tf \n",
    "from zipfile import ZipFile \n",
    "import urllib.request as request "
   ]
  },
  {
   "cell_type": "code",
   "execution_count": 16,
   "metadata": {},
   "outputs": [],
   "source": [
    "class Training:\n",
    "    def __init__(self,config:TrainingConfig):\n",
    "        self.config = config\n",
    "        \n",
    "    def get_base_model(self): # Take the upd model path\n",
    "        self.model = tf.keras.models.load_model(\n",
    "            self.config.updated_base_model_path\n",
    "        )\n",
    "        \n",
    "    def train_valid_generator(self):\n",
    "        # https://www.tensorflow.org/api_docs/python/tf/keras/preprocessing/image/ImageDataGenerator\n",
    "        # This link has code for ImageDataGenerator \n",
    "        \n",
    "        # List all the params to tune in model\n",
    "        # These params of dict will go to ImageDataGenerator\n",
    "        datagenerator_kwargs = dict( # We can add other params as well\n",
    "            rescale=1./255, # Rescaling the images\n",
    "            validation_split=0.2 # As we are not having diff test data\n",
    "        )\n",
    "        \n",
    "        # This is for flow_from_directory\n",
    "        dataflow_kwargs = dict( # This is same for train and validation sets\n",
    "            target_size= self.config.params_image_size[:-1],#(224,224)\n",
    "            batch_size= self.config.params_batch_size, # 16\n",
    "            interpolation=\"bilinear\", # This is for resizing\n",
    "        )\n",
    "        \n",
    "        # Now create your datagenerator\n",
    "        valid_datagenerator = tf.keras.preprocessing.image.ImageDataGenerator(\n",
    "            **datagenerator_kwargs # Fill in the dict of values here\n",
    "        )\n",
    "        \n",
    "        # Now create the flow_from_directory | how to get data from dir\n",
    "        self.valid_generator = valid_datagenerator.flow_from_directory(\n",
    "            directory= self.config.training_data, # Comes from Inheritance\n",
    "            subset=\"validation\", # This is for validation data\n",
    "            shuffle=False,\n",
    "            **dataflow_kwargs # This will load the other params\n",
    "        )\n",
    "        \n",
    "        # If augmentation is true apply it\n",
    "        if self.config.params_is_augmentation:\n",
    "            train_datagenerator = tf.keras.preprocessing.image.ImageDataGenerator(\n",
    "                rotation_range=40,\n",
    "                width_shift_range=0.2,\n",
    "                height_shift_range=0.2,\n",
    "                shear_range=0.2,\n",
    "                zoom_range=0.2,\n",
    "                horizontal_flip=True,\n",
    "                **datagenerator_kwargs\n",
    "                )\n",
    "        else: # Else keep the same generator\n",
    "            train_datagenerator = valid_datagenerator\n",
    "        \n",
    "        # Now we took out 20% of data for val, rest goes to training\n",
    "        self.train_generator = train_datagenerator.flow_from_directory(\n",
    "            directory= self.config.training_data, # Same dir\n",
    "            subset=\"training\", # Subset is training\n",
    "            shuffle=True, # Shuffle my train data\n",
    "            **dataflow_kwargs # Call rest of the dict\n",
    "            )\n",
    "    @staticmethod\n",
    "    def save_model(path: Path, model:tf.keras.Model):\n",
    "        model.save(path) # Save our model in given path\n",
    "        \n",
    "    # Training begins\n",
    "    def train(self):\n",
    "        self.steps_per_epoch = self.train_generator.samples//self.train_generator.batch_size\n",
    "        self.validation_steps = self.valid_generator.samples//self.valid_generator.batch_size\n",
    "        \n",
    "        self.model.fit(\n",
    "            self.train_generator,\n",
    "            epochs=self.config.params_epochs,\n",
    "            steps_per_epoch=self.steps_per_epoch,\n",
    "            # Pass validation data and its steps per epochs\n",
    "            validation_data=self.valid_generator,\n",
    "            validation_steps=self.validation_steps,\n",
    "        )\n",
    "        \n",
    "        # Now trained model we have to save\n",
    "        self.save_model(\n",
    "            path= self.config.trained_model_path,\n",
    "            model= self.model)"
   ]
  },
  {
   "cell_type": "code",
   "execution_count": 17,
   "metadata": {},
   "outputs": [
    {
     "name": "stdout",
     "output_type": "stream",
     "text": [
      "[2024-07-11 17:04:58,467: INFO: common: yaml file: config\\config.yaml loaded successfully]\n",
      "[2024-07-11 17:04:58,473: INFO: common: yaml file: params.yaml loaded successfully]\n",
      "[2024-07-11 17:04:58,476: INFO: common: created directory at: artifacts]\n",
      "[2024-07-11 17:04:58,479: INFO: common: created directory at: artifacts\\training]\n",
      "Found 68 images belonging to 2 classes.\n",
      "Found 275 images belonging to 2 classes.\n",
      "17/17 [==============================] - 166s 10s/step - loss: 16.2913 - accuracy: 0.5251 - val_loss: 9.8323 - val_accuracy: 0.3906\n"
     ]
    }
   ],
   "source": [
    "try:\n",
    "    config = ConfigurationManager()\n",
    "    training_config = config.get_training_config()\n",
    "    training = Training(config=training_config)\n",
    "    training.get_base_model() # Call base model path\n",
    "    training.train_valid_generator() # Get data\n",
    "    training.train() # Train it and save it\n",
    "except Exception as e:\n",
    "    raise e\n",
    "    \n",
    "    "
   ]
  },
  {
   "cell_type": "code",
   "execution_count": null,
   "metadata": {},
   "outputs": [],
   "source": []
  }
 ],
 "metadata": {
  "kernelspec": {
   "display_name": "cancer",
   "language": "python",
   "name": "python3"
  },
  "language_info": {
   "codemirror_mode": {
    "name": "ipython",
    "version": 3
   },
   "file_extension": ".py",
   "mimetype": "text/x-python",
   "name": "python",
   "nbconvert_exporter": "python",
   "pygments_lexer": "ipython3",
   "version": "3.10.1"
  }
 },
 "nbformat": 4,
 "nbformat_minor": 2
}
